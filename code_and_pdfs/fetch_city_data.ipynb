{
 "cells": [
  {
   "cell_type": "code",
   "execution_count": 14,
   "metadata": {
    "collapsed": true
   },
   "outputs": [],
   "source": [
    "import pandas as pd\n",
    "from requests.auth import HTTPBasicAuth\n",
    "from uszipcode import SearchEngine"
   ]
  },
  {
   "cell_type": "code",
   "execution_count": 47,
   "outputs": [
    {
     "name": "stdout",
     "output_type": "stream",
     "text": [
      "Index(['zipcode'], dtype='object')\n"
     ]
    }
   ],
   "source": [
    "df = pd.read_csv('../ref/unique_zips.csv', index_col=0)\n",
    "print(df.columns)"
   ],
   "metadata": {
    "collapsed": false,
    "pycharm": {
     "name": "#%%\n"
    }
   }
  },
  {
   "cell_type": "code",
   "execution_count": 12,
   "outputs": [],
   "source": [
    "def search_by_zip(zip_code):\n",
    "    search = SearchEngine(simple_zipcode=True)  # set simple_zipcode=False to use rich info database\n",
    "    zipcode = search.by_zipcode(zip_code)\n",
    "    return zipcode"
   ],
   "metadata": {
    "collapsed": false,
    "pycharm": {
     "name": "#%%\n"
    }
   }
  },
  {
   "cell_type": "code",
   "execution_count": 17,
   "outputs": [],
   "source": [
    "test_zip_search = search_by_zip('75234').to_dict()"
   ],
   "metadata": {
    "collapsed": false,
    "pycharm": {
     "name": "#%%\n"
    }
   }
  },
  {
   "cell_type": "code",
   "execution_count": 50,
   "outputs": [
    {
     "name": "stdout",
     "output_type": "stream",
     "text": [
      "common_city_list Is List\n",
      "area_code_list Is List\n",
      "common_city_list Is List\n",
      "area_code_list Is List\n",
      "common_city_list Is List\n",
      "area_code_list Is List\n",
      "common_city_list Is List\n",
      "area_code_list Is List\n",
      "common_city_list Is List\n",
      "area_code_list Is List\n",
      "common_city_list Is List\n",
      "area_code_list Is List\n",
      "common_city_list Is List\n",
      "area_code_list Is List\n",
      "common_city_list Is List\n",
      "area_code_list Is List\n",
      "common_city_list Is List\n",
      "area_code_list Is List\n",
      "common_city_list Is List\n",
      "area_code_list Is List\n",
      "common_city_list Is List\n",
      "area_code_list Is List\n",
      "common_city_list Is List\n",
      "area_code_list Is List\n",
      "common_city_list Is List\n",
      "area_code_list Is List\n",
      "common_city_list Is List\n",
      "area_code_list Is List\n",
      "common_city_list Is List\n",
      "area_code_list Is List\n",
      "common_city_list Is List\n",
      "area_code_list Is List\n",
      "common_city_list Is List\n",
      "area_code_list Is List\n",
      "common_city_list Is List\n",
      "area_code_list Is List\n",
      "common_city_list Is List\n",
      "area_code_list Is List\n",
      "common_city_list Is List\n",
      "area_code_list Is List\n",
      "common_city_list Is List\n",
      "area_code_list Is List\n",
      "common_city_list Is List\n",
      "area_code_list Is List\n",
      "common_city_list Is List\n",
      "area_code_list Is List\n",
      "common_city_list Is List\n",
      "area_code_list Is List\n",
      "common_city_list Is List\n",
      "area_code_list Is List\n",
      "common_city_list Is List\n",
      "area_code_list Is List\n",
      "common_city_list Is List\n",
      "area_code_list Is List\n",
      "common_city_list Is List\n",
      "area_code_list Is List\n",
      "common_city_list Is List\n",
      "area_code_list Is List\n",
      "common_city_list Is List\n",
      "area_code_list Is List\n",
      "common_city_list Is List\n",
      "area_code_list Is List\n",
      "common_city_list Is List\n",
      "area_code_list Is List\n",
      "common_city_list Is List\n",
      "area_code_list Is List\n",
      "common_city_list Is List\n",
      "area_code_list Is List\n",
      "common_city_list Is List\n",
      "area_code_list Is List\n",
      "common_city_list Is List\n",
      "area_code_list Is List\n",
      "common_city_list Is List\n",
      "area_code_list Is List\n",
      "common_city_list Is List\n",
      "area_code_list Is List\n",
      "common_city_list Is List\n",
      "area_code_list Is List\n",
      "common_city_list Is List\n",
      "area_code_list Is List\n",
      "common_city_list Is List\n",
      "area_code_list Is List\n",
      "common_city_list Is List\n",
      "area_code_list Is List\n",
      "common_city_list Is List\n",
      "area_code_list Is List\n",
      "common_city_list Is List\n",
      "area_code_list Is List\n",
      "common_city_list Is List\n",
      "area_code_list Is List\n",
      "common_city_list Is List\n",
      "area_code_list Is List\n",
      "common_city_list Is List\n",
      "area_code_list Is List\n",
      "common_city_list Is List\n",
      "area_code_list Is List\n",
      "common_city_list Is List\n",
      "area_code_list Is List\n",
      "common_city_list Is List\n",
      "area_code_list Is List\n",
      "common_city_list Is List\n",
      "area_code_list Is List\n",
      "common_city_list Is List\n",
      "area_code_list Is List\n",
      "common_city_list Is List\n",
      "area_code_list Is List\n",
      "common_city_list Is List\n",
      "area_code_list Is List\n",
      "common_city_list Is List\n",
      "area_code_list Is List\n",
      "common_city_list Is List\n",
      "area_code_list Is List\n",
      "common_city_list Is List\n",
      "area_code_list Is List\n",
      "common_city_list Is List\n",
      "area_code_list Is List\n",
      "common_city_list Is List\n",
      "area_code_list Is List\n",
      "common_city_list Is List\n",
      "area_code_list Is List\n",
      "common_city_list Is List\n",
      "area_code_list Is List\n",
      "common_city_list Is List\n",
      "area_code_list Is List\n",
      "common_city_list Is List\n",
      "area_code_list Is List\n",
      "common_city_list Is List\n",
      "area_code_list Is List\n",
      "common_city_list Is List\n",
      "area_code_list Is List\n",
      "common_city_list Is List\n",
      "area_code_list Is List\n",
      "common_city_list Is List\n",
      "area_code_list Is List\n",
      "common_city_list Is List\n",
      "area_code_list Is List\n",
      "common_city_list Is List\n",
      "area_code_list Is List\n",
      "common_city_list Is List\n",
      "area_code_list Is List\n",
      "common_city_list Is List\n",
      "area_code_list Is List\n",
      "common_city_list Is List\n",
      "area_code_list Is List\n",
      "common_city_list Is List\n",
      "area_code_list Is List\n",
      "common_city_list Is List\n",
      "area_code_list Is List\n",
      "common_city_list Is List\n",
      "area_code_list Is List\n",
      "common_city_list Is List\n",
      "area_code_list Is List\n",
      "common_city_list Is List\n",
      "area_code_list Is List\n",
      "common_city_list Is List\n",
      "area_code_list Is List\n",
      "common_city_list Is List\n",
      "area_code_list Is List\n",
      "common_city_list Is List\n",
      "area_code_list Is List\n",
      "common_city_list Is List\n",
      "area_code_list Is List\n",
      "common_city_list Is List\n",
      "area_code_list Is List\n",
      "common_city_list Is List\n",
      "area_code_list Is List\n",
      "common_city_list Is List\n",
      "area_code_list Is List\n",
      "common_city_list Is List\n",
      "area_code_list Is List\n",
      "common_city_list Is List\n",
      "area_code_list Is List\n",
      "common_city_list Is List\n",
      "area_code_list Is List\n",
      "common_city_list Is List\n",
      "area_code_list Is List\n",
      "common_city_list Is List\n",
      "area_code_list Is List\n",
      "common_city_list Is List\n",
      "area_code_list Is List\n",
      "common_city_list Is List\n",
      "area_code_list Is List\n",
      "common_city_list Is List\n",
      "area_code_list Is List\n",
      "common_city_list Is List\n",
      "area_code_list Is List\n",
      "common_city_list Is List\n",
      "area_code_list Is List\n",
      "common_city_list Is List\n",
      "area_code_list Is List\n",
      "common_city_list Is List\n",
      "area_code_list Is List\n",
      "common_city_list Is List\n",
      "area_code_list Is List\n",
      "common_city_list Is List\n",
      "area_code_list Is List\n",
      "common_city_list Is List\n",
      "area_code_list Is List\n",
      "common_city_list Is List\n",
      "area_code_list Is List\n",
      "common_city_list Is List\n",
      "area_code_list Is List\n",
      "common_city_list Is List\n",
      "area_code_list Is List\n",
      "common_city_list Is List\n",
      "area_code_list Is List\n",
      "common_city_list Is List\n",
      "area_code_list Is List\n",
      "common_city_list Is List\n",
      "area_code_list Is List\n",
      "common_city_list Is List\n",
      "area_code_list Is List\n",
      "common_city_list Is List\n",
      "area_code_list Is List\n",
      "common_city_list Is List\n",
      "area_code_list Is List\n",
      "common_city_list Is List\n",
      "area_code_list Is List\n",
      "common_city_list Is List\n",
      "area_code_list Is List\n",
      "common_city_list Is List\n",
      "area_code_list Is List\n",
      "common_city_list Is List\n",
      "area_code_list Is List\n",
      "common_city_list Is List\n",
      "area_code_list Is List\n",
      "common_city_list Is List\n",
      "area_code_list Is List\n",
      "common_city_list Is List\n",
      "area_code_list Is List\n",
      "common_city_list Is List\n",
      "area_code_list Is List\n",
      "common_city_list Is List\n",
      "area_code_list Is List\n",
      "common_city_list Is List\n",
      "area_code_list Is List\n",
      "common_city_list Is List\n",
      "area_code_list Is List\n",
      "common_city_list Is List\n",
      "area_code_list Is List\n",
      "common_city_list Is List\n",
      "area_code_list Is List\n",
      "common_city_list Is List\n",
      "area_code_list Is List\n",
      "common_city_list Is List\n",
      "area_code_list Is List\n",
      "common_city_list Is List\n",
      "area_code_list Is List\n",
      "common_city_list Is List\n",
      "area_code_list Is List\n",
      "common_city_list Is List\n",
      "area_code_list Is List\n",
      "common_city_list Is List\n",
      "area_code_list Is List\n",
      "common_city_list Is List\n",
      "area_code_list Is List\n",
      "common_city_list Is List\n",
      "area_code_list Is List\n",
      "common_city_list Is List\n",
      "area_code_list Is List\n",
      "common_city_list Is List\n",
      "area_code_list Is List\n",
      "common_city_list Is List\n",
      "area_code_list Is List\n",
      "common_city_list Is List\n",
      "area_code_list Is List\n",
      "common_city_list Is List\n",
      "area_code_list Is List\n",
      "common_city_list Is List\n",
      "area_code_list Is List\n",
      "common_city_list Is List\n",
      "area_code_list Is List\n",
      "common_city_list Is List\n",
      "area_code_list Is List\n",
      "common_city_list Is List\n",
      "area_code_list Is List\n",
      "common_city_list Is List\n",
      "area_code_list Is List\n",
      "common_city_list Is List\n",
      "area_code_list Is List\n",
      "common_city_list Is List\n",
      "area_code_list Is List\n",
      "common_city_list Is List\n",
      "area_code_list Is List\n",
      "common_city_list Is List\n",
      "area_code_list Is List\n",
      "common_city_list Is List\n",
      "area_code_list Is List\n",
      "common_city_list Is List\n",
      "area_code_list Is List\n",
      "common_city_list Is List\n",
      "area_code_list Is List\n",
      "common_city_list Is List\n",
      "area_code_list Is List\n",
      "common_city_list Is List\n",
      "area_code_list Is List\n",
      "common_city_list Is List\n",
      "area_code_list Is List\n",
      "common_city_list Is List\n",
      "area_code_list Is List\n",
      "common_city_list Is List\n",
      "area_code_list Is List\n",
      "common_city_list Is List\n",
      "area_code_list Is List\n",
      "common_city_list Is List\n",
      "area_code_list Is List\n",
      "common_city_list Is List\n",
      "area_code_list Is List\n",
      "common_city_list Is List\n",
      "area_code_list Is List\n",
      "common_city_list Is List\n",
      "area_code_list Is List\n"
     ]
    }
   ],
   "source": [
    "for index, row in df.iterrows():\n",
    "    zip_code = row['zipcode']\n",
    "    zip_search = search_by_zip(zip_code).to_dict()\n",
    "    for key in zip_search.keys():\n",
    "        val = zip_search[key]\n",
    "        if isinstance(val, list):\n",
    "            for list_index, list_val in enumerate(val):\n",
    "                if list_index == 0:\n",
    "                    df.loc[index,key] = list_val\n",
    "                else:\n",
    "                    list_key = key + str(list_index)\n",
    "                    df.loc[index,list_key] = list_val\n",
    "            print(key, \"Is List\")\n",
    "        else:\n",
    "            df.loc[index,key] = val\n"
   ],
   "metadata": {
    "collapsed": false,
    "pycharm": {
     "name": "#%%\n"
    }
   }
  },
  {
   "cell_type": "code",
   "execution_count": 57,
   "outputs": [
    {
     "name": "stdout",
     "output_type": "stream",
     "text": [
      "Index(['zipcode', 'zipcode_type', 'major_city', 'post_office_city',\n",
      "       'common_city_list', 'county', 'state', 'lat', 'lng', 'timezone',\n",
      "       'radius_in_miles', 'area_code_list', 'population', 'population_density',\n",
      "       'land_area_in_sqmi', 'water_area_in_sqmi', 'housing_units',\n",
      "       'occupied_housing_units', 'median_home_value',\n",
      "       'median_household_income', 'bounds_west', 'bounds_east', 'bounds_north',\n",
      "       'bounds_south', 'area_code_list1', 'area_code_list2',\n",
      "       'common_city_list1', 'area_code_list3', 'area_code_list4',\n",
      "       'area_code_list5', 'common_city_list2', 'common_city_list3',\n",
      "       'area_code_list6', 'area_code_list7', 'area_code_list8',\n",
      "       'common_city_list4'],\n",
      "      dtype='object')\n"
     ]
    }
   ],
   "source": [
    "print(df.columns)"
   ],
   "metadata": {
    "collapsed": false,
    "pycharm": {
     "name": "#%%\n"
    }
   }
  },
  {
   "cell_type": "code",
   "execution_count": 56,
   "outputs": [
    {
     "name": "stdout",
     "output_type": "stream",
     "text": [
      "\n"
     ]
    }
   ],
   "source": [
    "#print(df[~df['area_code_list8'].isnull()])\n",
    "print()"
   ],
   "metadata": {
    "collapsed": false,
    "pycharm": {
     "name": "#%%\n"
    }
   }
  },
  {
   "cell_type": "code",
   "execution_count": 58,
   "outputs": [],
   "source": [
    "df.to_csv('../ref/unique_zips_and_population.csv', index=False)"
   ],
   "metadata": {
    "collapsed": false,
    "pycharm": {
     "name": "#%%\n"
    }
   }
  },
  {
   "cell_type": "code",
   "execution_count": 12,
   "outputs": [],
   "source": [
    "import pandas as pd\n",
    "\n",
    "df = pd.read_csv('../ref/train_with_zips.csv')\n",
    "df_pop = pd.read_csv('../ref/unique_zips_and_population.csv')"
   ],
   "metadata": {
    "collapsed": false,
    "pycharm": {
     "name": "#%%\n"
    }
   }
  },
  {
   "cell_type": "code",
   "execution_count": 23,
   "outputs": [
    {
     "name": "stdout",
     "output_type": "stream",
     "text": [
      "RowId                        int64\n",
      "IntersectionId               int64\n",
      "Latitude                   float64\n",
      "Longitude                  float64\n",
      "EntryStreetName             object\n",
      "ExitStreetName              object\n",
      "EntryHeading                object\n",
      "ExitHeading                 object\n",
      "Hour                         int64\n",
      "Weekend                      int64\n",
      "Month                        int64\n",
      "Path                        object\n",
      "TotalTimeStopped_p20       float64\n",
      "TotalTimeStopped_p40       float64\n",
      "TotalTimeStopped_p50       float64\n",
      "TotalTimeStopped_p60       float64\n",
      "TotalTimeStopped_p80       float64\n",
      "TimeFromFirstStop_p20      float64\n",
      "TimeFromFirstStop_p40      float64\n",
      "TimeFromFirstStop_p50      float64\n",
      "TimeFromFirstStop_p60      float64\n",
      "TimeFromFirstStop_p80      float64\n",
      "DistanceToFirstStop_p20    float64\n",
      "DistanceToFirstStop_p40    float64\n",
      "DistanceToFirstStop_p50    float64\n",
      "DistanceToFirstStop_p60    float64\n",
      "DistanceToFirstStop_p80    float64\n",
      "City                        object\n",
      "zip                          int64\n",
      "dtype: object\n",
      "RowId                        int64\n",
      "IntersectionId               int64\n",
      "Latitude                   float64\n",
      "Longitude                  float64\n",
      "EntryStreetName             object\n",
      "ExitStreetName              object\n",
      "EntryHeading                object\n",
      "ExitHeading                 object\n",
      "Hour                         int64\n",
      "Weekend                      int64\n",
      "Month                        int64\n",
      "Path                        object\n",
      "TotalTimeStopped_p20       float64\n",
      "TotalTimeStopped_p40       float64\n",
      "TotalTimeStopped_p50       float64\n",
      "TotalTimeStopped_p60       float64\n",
      "TotalTimeStopped_p80       float64\n",
      "TimeFromFirstStop_p20      float64\n",
      "TimeFromFirstStop_p40      float64\n",
      "TimeFromFirstStop_p50      float64\n",
      "TimeFromFirstStop_p60      float64\n",
      "TimeFromFirstStop_p80      float64\n",
      "DistanceToFirstStop_p20    float64\n",
      "DistanceToFirstStop_p40    float64\n",
      "DistanceToFirstStop_p50    float64\n",
      "DistanceToFirstStop_p60    float64\n",
      "DistanceToFirstStop_p80    float64\n",
      "City                        object\n",
      "zip                          int64\n",
      "dtype: object\n",
      "df ^^^\n",
      "zip                          int64\n",
      "zipcode_type                object\n",
      "major_city                  object\n",
      "post_office_city            object\n",
      "common_city_list            object\n",
      "county                      object\n",
      "state                       object\n",
      "lat                        float64\n",
      "lng                        float64\n",
      "timezone                    object\n",
      "radius_in_miles            float64\n",
      "area_code_list               int64\n",
      "population                 float64\n",
      "population_density         float64\n",
      "land_area_in_sqmi          float64\n",
      "water_area_in_sqmi         float64\n",
      "housing_units              float64\n",
      "occupied_housing_units     float64\n",
      "median_home_value          float64\n",
      "median_household_income    float64\n",
      "bounds_west                float64\n",
      "bounds_east                float64\n",
      "bounds_north               float64\n",
      "bounds_south               float64\n",
      "area_code_list1            float64\n",
      "area_code_list2            float64\n",
      "common_city_list1           object\n",
      "area_code_list3            float64\n",
      "area_code_list4            float64\n",
      "area_code_list5            float64\n",
      "common_city_list2           object\n",
      "common_city_list3           object\n",
      "area_code_list6            float64\n",
      "area_code_list7            float64\n",
      "area_code_list8            float64\n",
      "common_city_list4           object\n",
      "dtype: object\n"
     ]
    }
   ],
   "source": [
    "print(df.dtypes)\n",
    "df['zip'] = df.zip.astype('int64')\n",
    "print(df.dtypes)\n",
    "print(\"df ^^^\")\n",
    "print(df_pop.dtypes)"
   ],
   "metadata": {
    "collapsed": false,
    "pycharm": {
     "name": "#%%\n"
    }
   }
  },
  {
   "cell_type": "code",
   "execution_count": null,
   "outputs": [],
   "source": [
    "result = pd.merge(df, df_pop, on=\"zip\")"
   ],
   "metadata": {
    "collapsed": false,
    "pycharm": {
     "name": "#%%\n"
    }
   }
  },
  {
   "cell_type": "code",
   "execution_count": 24,
   "outputs": [
    {
     "data": {
      "text/plain": "     RowId  IntersectionId   Latitude  Longitude  \\\n0  1921357               0  33.791659 -84.430032   \n1  1921358               0  33.791659 -84.430032   \n2  1921359               0  33.791659 -84.430032   \n3  1921360               0  33.791659 -84.430032   \n4  1921361               0  33.791659 -84.430032   \n\n                EntryStreetName                ExitStreetName EntryHeading  \\\n0  Marietta Boulevard Northwest  Marietta Boulevard Northwest           NW   \n1  Marietta Boulevard Northwest  Marietta Boulevard Northwest           SE   \n2  Marietta Boulevard Northwest  Marietta Boulevard Northwest           NW   \n3  Marietta Boulevard Northwest  Marietta Boulevard Northwest           SE   \n4  Marietta Boulevard Northwest  Marietta Boulevard Northwest           NW   \n\n  ExitHeading  Hour  Weekend  ...  common_city_list1 area_code_list3  \\\n0          NW     0        0  ...                NaN             NaN   \n1          SE     0        0  ...                NaN             NaN   \n2          NW     1        0  ...                NaN             NaN   \n3          SE     1        0  ...                NaN             NaN   \n4          NW     2        0  ...                NaN             NaN   \n\n   area_code_list4  area_code_list5  common_city_list2  common_city_list3  \\\n0              NaN              NaN                NaN                NaN   \n1              NaN              NaN                NaN                NaN   \n2              NaN              NaN                NaN                NaN   \n3              NaN              NaN                NaN                NaN   \n4              NaN              NaN                NaN                NaN   \n\n   area_code_list6  area_code_list7  area_code_list8  common_city_list4  \n0              NaN              NaN              NaN                NaN  \n1              NaN              NaN              NaN                NaN  \n2              NaN              NaN              NaN                NaN  \n3              NaN              NaN              NaN                NaN  \n4              NaN              NaN              NaN                NaN  \n\n[5 rows x 64 columns]",
      "text/html": "<div>\n<style scoped>\n    .dataframe tbody tr th:only-of-type {\n        vertical-align: middle;\n    }\n\n    .dataframe tbody tr th {\n        vertical-align: top;\n    }\n\n    .dataframe thead th {\n        text-align: right;\n    }\n</style>\n<table border=\"1\" class=\"dataframe\">\n  <thead>\n    <tr style=\"text-align: right;\">\n      <th></th>\n      <th>RowId</th>\n      <th>IntersectionId</th>\n      <th>Latitude</th>\n      <th>Longitude</th>\n      <th>EntryStreetName</th>\n      <th>ExitStreetName</th>\n      <th>EntryHeading</th>\n      <th>ExitHeading</th>\n      <th>Hour</th>\n      <th>Weekend</th>\n      <th>...</th>\n      <th>common_city_list1</th>\n      <th>area_code_list3</th>\n      <th>area_code_list4</th>\n      <th>area_code_list5</th>\n      <th>common_city_list2</th>\n      <th>common_city_list3</th>\n      <th>area_code_list6</th>\n      <th>area_code_list7</th>\n      <th>area_code_list8</th>\n      <th>common_city_list4</th>\n    </tr>\n  </thead>\n  <tbody>\n    <tr>\n      <th>0</th>\n      <td>1921357</td>\n      <td>0</td>\n      <td>33.791659</td>\n      <td>-84.430032</td>\n      <td>Marietta Boulevard Northwest</td>\n      <td>Marietta Boulevard Northwest</td>\n      <td>NW</td>\n      <td>NW</td>\n      <td>0</td>\n      <td>0</td>\n      <td>...</td>\n      <td>NaN</td>\n      <td>NaN</td>\n      <td>NaN</td>\n      <td>NaN</td>\n      <td>NaN</td>\n      <td>NaN</td>\n      <td>NaN</td>\n      <td>NaN</td>\n      <td>NaN</td>\n      <td>NaN</td>\n    </tr>\n    <tr>\n      <th>1</th>\n      <td>1921358</td>\n      <td>0</td>\n      <td>33.791659</td>\n      <td>-84.430032</td>\n      <td>Marietta Boulevard Northwest</td>\n      <td>Marietta Boulevard Northwest</td>\n      <td>SE</td>\n      <td>SE</td>\n      <td>0</td>\n      <td>0</td>\n      <td>...</td>\n      <td>NaN</td>\n      <td>NaN</td>\n      <td>NaN</td>\n      <td>NaN</td>\n      <td>NaN</td>\n      <td>NaN</td>\n      <td>NaN</td>\n      <td>NaN</td>\n      <td>NaN</td>\n      <td>NaN</td>\n    </tr>\n    <tr>\n      <th>2</th>\n      <td>1921359</td>\n      <td>0</td>\n      <td>33.791659</td>\n      <td>-84.430032</td>\n      <td>Marietta Boulevard Northwest</td>\n      <td>Marietta Boulevard Northwest</td>\n      <td>NW</td>\n      <td>NW</td>\n      <td>1</td>\n      <td>0</td>\n      <td>...</td>\n      <td>NaN</td>\n      <td>NaN</td>\n      <td>NaN</td>\n      <td>NaN</td>\n      <td>NaN</td>\n      <td>NaN</td>\n      <td>NaN</td>\n      <td>NaN</td>\n      <td>NaN</td>\n      <td>NaN</td>\n    </tr>\n    <tr>\n      <th>3</th>\n      <td>1921360</td>\n      <td>0</td>\n      <td>33.791659</td>\n      <td>-84.430032</td>\n      <td>Marietta Boulevard Northwest</td>\n      <td>Marietta Boulevard Northwest</td>\n      <td>SE</td>\n      <td>SE</td>\n      <td>1</td>\n      <td>0</td>\n      <td>...</td>\n      <td>NaN</td>\n      <td>NaN</td>\n      <td>NaN</td>\n      <td>NaN</td>\n      <td>NaN</td>\n      <td>NaN</td>\n      <td>NaN</td>\n      <td>NaN</td>\n      <td>NaN</td>\n      <td>NaN</td>\n    </tr>\n    <tr>\n      <th>4</th>\n      <td>1921361</td>\n      <td>0</td>\n      <td>33.791659</td>\n      <td>-84.430032</td>\n      <td>Marietta Boulevard Northwest</td>\n      <td>Marietta Boulevard Northwest</td>\n      <td>NW</td>\n      <td>NW</td>\n      <td>2</td>\n      <td>0</td>\n      <td>...</td>\n      <td>NaN</td>\n      <td>NaN</td>\n      <td>NaN</td>\n      <td>NaN</td>\n      <td>NaN</td>\n      <td>NaN</td>\n      <td>NaN</td>\n      <td>NaN</td>\n      <td>NaN</td>\n      <td>NaN</td>\n    </tr>\n  </tbody>\n</table>\n<p>5 rows × 64 columns</p>\n</div>"
     },
     "execution_count": 24,
     "metadata": {},
     "output_type": "execute_result"
    }
   ],
   "source": [
    "# df.head()\n",
    "# df_pop.head()\n",
    "result.head()"
   ],
   "metadata": {
    "collapsed": false,
    "pycharm": {
     "name": "#%%\n"
    }
   }
  },
  {
   "cell_type": "code",
   "execution_count": 27,
   "outputs": [
    {
     "name": "stdout",
     "output_type": "stream",
     "text": [
      "856387\n",
      "856387\n"
     ]
    }
   ],
   "source": [
    "print(len(result))\n",
    "print(len(df))"
   ],
   "metadata": {
    "collapsed": false,
    "pycharm": {
     "name": "#%%\n"
    }
   }
  },
  {
   "cell_type": "code",
   "execution_count": 28,
   "outputs": [],
   "source": [
    "result.to_csv('../ref/train_with_zip_and_pop.csv', index=False)"
   ],
   "metadata": {
    "collapsed": false,
    "pycharm": {
     "name": "#%%\n"
    }
   }
  },
  {
   "cell_type": "code",
   "execution_count": 3,
   "outputs": [
    {
     "name": "stdout",
     "output_type": "stream",
     "text": [
      "30318, 02130, 60641, 60637, 30306, 02142, 60601, 60644, 30126, 19134, 60652, 60638, 02110, 02129, 60636, 19109, 60171, 30307, 30303, 19103, 02126, 60649, 02143, 60608, 02203, 60630, 02135, 19121, 60623, 02115, 02134, 30349, 60634, 30316, 60609, 60654, 30312, 60617, 60805, 19112, 60615, 19143, 60706, 60661, 60304, 60653, 19139, 19137, 60604, 60625, 30305, 60632, 60651, 60603, 02111, 19147, 60613, 02109, 19131, 60624, 19130, 60620, 30324, 02127, 30030, 02125, 60611, 30344, 02210, 60827, 19106, 30311, 60643, 19129, 02467, 02150, 19146, 60602, 19107, 60605, 30308, 19120, 02113, 19123, 30315, 60606, 02122, 30314, 30332, 02446, 02120, 60657, 60655, 30331, 30313, 60610, 30310, 60406, 19111, 30363, 19104, 19145, 30317, 02199, 19125, 02163, 60633, 19140, 02215, 30354, 19135, 60639, 02136, 30334, 19151, 19148, 02118, 60628, 02108, 46320, 02141, 02138, 60707, 60629, 60607, 60619, 02132, 02121, 19149, 60616, 60614, 19124, 19132, 02119, 60622, 60647, 30309, 19122, 02124, 19102, 60621, 02131, 02128, 60804, 02445, 19142, 02116, 60642, 60640, 60456, 19133, 60302, 60612, 60618, 02139, 02114, \n"
     ]
    }
   ],
   "source": [
    "import pandas as pd\n",
    "zip_df = pd.read_csv('../ref/unique_zips.csv', dtype={'zipcode':str})\n",
    "zip_string = \"\"\n",
    "for index, row in zip_df.iterrows():\n",
    "    zip_string = zip_string + str(row['zipcode']) + \", \"\n",
    "print(zip_string)"
   ],
   "metadata": {
    "collapsed": false,
    "pycharm": {
     "name": "#%%\n"
    }
   }
  }
 ],
 "metadata": {
  "kernelspec": {
   "display_name": "Python 3",
   "language": "python",
   "name": "python3"
  },
  "language_info": {
   "codemirror_mode": {
    "name": "ipython",
    "version": 2
   },
   "file_extension": ".py",
   "mimetype": "text/x-python",
   "name": "python",
   "nbconvert_exporter": "python",
   "pygments_lexer": "ipython2",
   "version": "2.7.6"
  }
 },
 "nbformat": 4,
 "nbformat_minor": 0
}