{
 "cells": [
  {
   "cell_type": "code",
   "execution_count": 14,
   "metadata": {
    "collapsed": true
   },
   "outputs": [],
   "source": [
    "import pandas as pd\n",
    "from requests.auth import HTTPBasicAuth\n",
    "from uszipcode import SearchEngine"
   ]
  },
  {
   "cell_type": "code",
   "execution_count": 47,
   "outputs": [
    {
     "name": "stdout",
     "output_type": "stream",
     "text": [
      "Index(['zipcode'], dtype='object')\n"
     ]
    }
   ],
   "source": [
    "df = pd.read_csv('../ref/unique_zips.csv', index_col=0)\n",
    "print(df.columns)"
   ],
   "metadata": {
    "collapsed": false,
    "pycharm": {
     "name": "#%%\n"
    }
   }
  },
  {
   "cell_type": "code",
   "execution_count": 12,
   "outputs": [],
   "source": [
    "def search_by_zip(zip_code):\n",
    "    search = SearchEngine(simple_zipcode=True)  # set simple_zipcode=False to use rich info database\n",
    "    zipcode = search.by_zipcode(zip_code)\n",
    "    return zipcode"
   ],
   "metadata": {
    "collapsed": false,
    "pycharm": {
     "name": "#%%\n"
    }
   }
  },
  {
   "cell_type": "code",
   "execution_count": 17,
   "outputs": [],
   "source": [
    "test_zip_search = search_by_zip('75234').to_dict()"
   ],
   "metadata": {
    "collapsed": false,
    "pycharm": {
     "name": "#%%\n"
    }
   }
  },
  {
   "cell_type": "code",
   "execution_count": 50,
   "outputs": [
    {
     "name": "stdout",
     "output_type": "stream",
     "text": [
      "common_city_list Is List\n",
      "area_code_list Is List\n",
      "common_city_list Is List\n",
      "area_code_list Is List\n",
      "common_city_list Is List\n",
      "area_code_list Is List\n",
      "common_city_list Is List\n",
      "area_code_list Is List\n",
      "common_city_list Is List\n",
      "area_code_list Is List\n",
      "common_city_list Is List\n",
      "area_code_list Is List\n",
      "common_city_list Is List\n",
      "area_code_list Is List\n",
      "common_city_list Is List\n",
      "area_code_list Is List\n",
      "common_city_list Is List\n",
      "area_code_list Is List\n",
      "common_city_list Is List\n",
      "area_code_list Is List\n",
      "common_city_list Is List\n",
      "area_code_list Is List\n",
      "common_city_list Is List\n",
      "area_code_list Is List\n",
      "common_city_list Is List\n",
      "area_code_list Is List\n",
      "common_city_list Is List\n",
      "area_code_list Is List\n",
      "common_city_list Is List\n",
      "area_code_list Is List\n",
      "common_city_list Is List\n",
      "area_code_list Is List\n",
      "common_city_list Is List\n",
      "area_code_list Is List\n",
      "common_city_list Is List\n",
      "area_code_list Is List\n",
      "common_city_list Is List\n",
      "area_code_list Is List\n",
      "common_city_list Is List\n",
      "area_code_list Is List\n",
      "common_city_list Is List\n",
      "area_code_list Is List\n",
      "common_city_list Is List\n",
      "area_code_list Is List\n",
      "common_city_list Is List\n",
      "area_code_list Is List\n",
      "common_city_list Is List\n",
      "area_code_list Is List\n",
      "common_city_list Is List\n",
      "area_code_list Is List\n",
      "common_city_list Is List\n",
      "area_code_list Is List\n",
      "common_city_list Is List\n",
      "area_code_list Is List\n",
      "common_city_list Is List\n",
      "area_code_list Is List\n",
      "common_city_list Is List\n",
      "area_code_list Is List\n",
      "common_city_list Is List\n",
      "area_code_list Is List\n",
      "common_city_list Is List\n",
      "area_code_list Is List\n",
      "common_city_list Is List\n",
      "area_code_list Is List\n",
      "common_city_list Is List\n",
      "area_code_list Is List\n",
      "common_city_list Is List\n",
      "area_code_list Is List\n",
      "common_city_list Is List\n",
      "area_code_list Is List\n",
      "common_city_list Is List\n",
      "area_code_list Is List\n",
      "common_city_list Is List\n",
      "area_code_list Is List\n",
      "common_city_list Is List\n",
      "area_code_list Is List\n",
      "common_city_list Is List\n",
      "area_code_list Is List\n",
      "common_city_list Is List\n",
      "area_code_list Is List\n",
      "common_city_list Is List\n",
      "area_code_list Is List\n",
      "common_city_list Is List\n",
      "area_code_list Is List\n",
      "common_city_list Is List\n",
      "area_code_list Is List\n",
      "common_city_list Is List\n",
      "area_code_list Is List\n",
      "common_city_list Is List\n",
      "area_code_list Is List\n",
      "common_city_list Is List\n",
      "area_code_list Is List\n",
      "common_city_list Is List\n",
      "area_code_list Is List\n",
      "common_city_list Is List\n",
      "area_code_list Is List\n",
      "common_city_list Is List\n",
      "area_code_list Is List\n",
      "common_city_list Is List\n",
      "area_code_list Is List\n",
      "common_city_list Is List\n",
      "area_code_list Is List\n",
      "common_city_list Is List\n",
      "area_code_list Is List\n",
      "common_city_list Is List\n",
      "area_code_list Is List\n",
      "common_city_list Is List\n",
      "area_code_list Is List\n",
      "common_city_list Is List\n",
      "area_code_list Is List\n",
      "common_city_list Is List\n",
      "area_code_list Is List\n",
      "common_city_list Is List\n",
      "area_code_list Is List\n",
      "common_city_list Is List\n",
      "area_code_list Is List\n",
      "common_city_list Is List\n",
      "area_code_list Is List\n",
      "common_city_list Is List\n",
      "area_code_list Is List\n",
      "common_city_list Is List\n",
      "area_code_list Is List\n",
      "common_city_list Is List\n",
      "area_code_list Is List\n",
      "common_city_list Is List\n",
      "area_code_list Is List\n",
      "common_city_list Is List\n",
      "area_code_list Is List\n",
      "common_city_list Is List\n",
      "area_code_list Is List\n",
      "common_city_list Is List\n",
      "area_code_list Is List\n",
      "common_city_list Is List\n",
      "area_code_list Is List\n",
      "common_city_list Is List\n",
      "area_code_list Is List\n",
      "common_city_list Is List\n",
      "area_code_list Is List\n",
      "common_city_list Is List\n",
      "area_code_list Is List\n",
      "common_city_list Is List\n",
      "area_code_list Is List\n",
      "common_city_list Is List\n",
      "area_code_list Is List\n",
      "common_city_list Is List\n",
      "area_code_list Is List\n",
      "common_city_list Is List\n",
      "area_code_list Is List\n",
      "common_city_list Is List\n",
      "area_code_list Is List\n",
      "common_city_list Is List\n",
      "area_code_list Is List\n",
      "common_city_list Is List\n",
      "area_code_list Is List\n",
      "common_city_list Is List\n",
      "area_code_list Is List\n",
      "common_city_list Is List\n",
      "area_code_list Is List\n",
      "common_city_list Is List\n",
      "area_code_list Is List\n",
      "common_city_list Is List\n",
      "area_code_list Is List\n",
      "common_city_list Is List\n",
      "area_code_list Is List\n",
      "common_city_list Is List\n",
      "area_code_list Is List\n",
      "common_city_list Is List\n",
      "area_code_list Is List\n",
      "common_city_list Is List\n",
      "area_code_list Is List\n",
      "common_city_list Is List\n",
      "area_code_list Is List\n",
      "common_city_list Is List\n",
      "area_code_list Is List\n",
      "common_city_list Is List\n",
      "area_code_list Is List\n",
      "common_city_list Is List\n",
      "area_code_list Is List\n",
      "common_city_list Is List\n",
      "area_code_list Is List\n",
      "common_city_list Is List\n",
      "area_code_list Is List\n",
      "common_city_list Is List\n",
      "area_code_list Is List\n",
      "common_city_list Is List\n",
      "area_code_list Is List\n",
      "common_city_list Is List\n",
      "area_code_list Is List\n",
      "common_city_list Is List\n",
      "area_code_list Is List\n",
      "common_city_list Is List\n",
      "area_code_list Is List\n",
      "common_city_list Is List\n",
      "area_code_list Is List\n",
      "common_city_list Is List\n",
      "area_code_list Is List\n",
      "common_city_list Is List\n",
      "area_code_list Is List\n",
      "common_city_list Is List\n",
      "area_code_list Is List\n",
      "common_city_list Is List\n",
      "area_code_list Is List\n",
      "common_city_list Is List\n",
      "area_code_list Is List\n",
      "common_city_list Is List\n",
      "area_code_list Is List\n",
      "common_city_list Is List\n",
      "area_code_list Is List\n",
      "common_city_list Is List\n",
      "area_code_list Is List\n",
      "common_city_list Is List\n",
      "area_code_list Is List\n",
      "common_city_list Is List\n",
      "area_code_list Is List\n",
      "common_city_list Is List\n",
      "area_code_list Is List\n",
      "common_city_list Is List\n",
      "area_code_list Is List\n",
      "common_city_list Is List\n",
      "area_code_list Is List\n",
      "common_city_list Is List\n",
      "area_code_list Is List\n",
      "common_city_list Is List\n",
      "area_code_list Is List\n",
      "common_city_list Is List\n",
      "area_code_list Is List\n",
      "common_city_list Is List\n",
      "area_code_list Is List\n",
      "common_city_list Is List\n",
      "area_code_list Is List\n",
      "common_city_list Is List\n",
      "area_code_list Is List\n",
      "common_city_list Is List\n",
      "area_code_list Is List\n",
      "common_city_list Is List\n",
      "area_code_list Is List\n",
      "common_city_list Is List\n",
      "area_code_list Is List\n",
      "common_city_list Is List\n",
      "area_code_list Is List\n",
      "common_city_list Is List\n",
      "area_code_list Is List\n",
      "common_city_list Is List\n",
      "area_code_list Is List\n",
      "common_city_list Is List\n",
      "area_code_list Is List\n",
      "common_city_list Is List\n",
      "area_code_list Is List\n",
      "common_city_list Is List\n",
      "area_code_list Is List\n",
      "common_city_list Is List\n",
      "area_code_list Is List\n",
      "common_city_list Is List\n",
      "area_code_list Is List\n",
      "common_city_list Is List\n",
      "area_code_list Is List\n",
      "common_city_list Is List\n",
      "area_code_list Is List\n",
      "common_city_list Is List\n",
      "area_code_list Is List\n",
      "common_city_list Is List\n",
      "area_code_list Is List\n",
      "common_city_list Is List\n",
      "area_code_list Is List\n",
      "common_city_list Is List\n",
      "area_code_list Is List\n",
      "common_city_list Is List\n",
      "area_code_list Is List\n",
      "common_city_list Is List\n",
      "area_code_list Is List\n",
      "common_city_list Is List\n",
      "area_code_list Is List\n",
      "common_city_list Is List\n",
      "area_code_list Is List\n",
      "common_city_list Is List\n",
      "area_code_list Is List\n",
      "common_city_list Is List\n",
      "area_code_list Is List\n",
      "common_city_list Is List\n",
      "area_code_list Is List\n",
      "common_city_list Is List\n",
      "area_code_list Is List\n",
      "common_city_list Is List\n",
      "area_code_list Is List\n",
      "common_city_list Is List\n",
      "area_code_list Is List\n",
      "common_city_list Is List\n",
      "area_code_list Is List\n",
      "common_city_list Is List\n",
      "area_code_list Is List\n",
      "common_city_list Is List\n",
      "area_code_list Is List\n",
      "common_city_list Is List\n",
      "area_code_list Is List\n",
      "common_city_list Is List\n",
      "area_code_list Is List\n",
      "common_city_list Is List\n",
      "area_code_list Is List\n",
      "common_city_list Is List\n",
      "area_code_list Is List\n",
      "common_city_list Is List\n",
      "area_code_list Is List\n",
      "common_city_list Is List\n",
      "area_code_list Is List\n",
      "common_city_list Is List\n",
      "area_code_list Is List\n",
      "common_city_list Is List\n",
      "area_code_list Is List\n",
      "common_city_list Is List\n",
      "area_code_list Is List\n",
      "common_city_list Is List\n",
      "area_code_list Is List\n"
     ]
    }
   ],
   "source": [
    "for index, row in df.iterrows():\n",
    "    zip_code = row['zipcode']\n",
    "    zip_search = search_by_zip(zip_code).to_dict()\n",
    "    for key in zip_search.keys():\n",
    "        val = zip_search[key]\n",
    "        if isinstance(val, list):\n",
    "            for list_index, list_val in enumerate(val):\n",
    "                if list_index == 0:\n",
    "                    df.loc[index,key] = list_val\n",
    "                else:\n",
    "                    list_key = key + str(list_index)\n",
    "                    df.loc[index,list_key] = list_val\n",
    "            print(key, \"Is List\")\n",
    "        else:\n",
    "            df.loc[index,key] = val\n"
   ],
   "metadata": {
    "collapsed": false,
    "pycharm": {
     "name": "#%%\n"
    }
   }
  },
  {
   "cell_type": "code",
   "execution_count": 51,
   "outputs": [
    {
     "name": "stdout",
     "output_type": "stream",
     "text": [
      "Index(['zipcode', 'zipcode_type', 'major_city', 'post_office_city',\n",
      "       'common_city_list', 'county', 'state', 'lat', 'lng', 'timezone',\n",
      "       'radius_in_miles', 'area_code_list', 'population', 'population_density',\n",
      "       'land_area_in_sqmi', 'water_area_in_sqmi', 'housing_units',\n",
      "       'occupied_housing_units', 'median_home_value',\n",
      "       'median_household_income', 'bounds_west', 'bounds_east', 'bounds_north',\n",
      "       'bounds_south', 'area_code_list1', 'area_code_list2',\n",
      "       'common_city_list1', 'area_code_list3', 'area_code_list4',\n",
      "       'area_code_list5', 'common_city_list2', 'common_city_list3',\n",
      "       'area_code_list6', 'area_code_list7', 'area_code_list8',\n",
      "       'common_city_list4'],\n",
      "      dtype='object')\n"
     ]
    }
   ],
   "source": [
    "print(df.columns)"
   ],
   "metadata": {
    "collapsed": false,
    "pycharm": {
     "name": "#%%\n"
    }
   }
  },
  {
   "cell_type": "code",
   "execution_count": 54,
   "outputs": [
    {
     "name": "stdout",
     "output_type": "stream",
     "text": [
      "      zipcode zipcode_type major_city post_office_city common_city_list  \\\n",
      "index                                                                     \n",
      "53      60603     Standard    Chicago      Chicago, IL          Chicago   \n",
      "\n",
      "            county state    lat     lng timezone  ...  common_city_list1  \\\n",
      "index                                             ...                      \n",
      "53     Cook County    IL  41.88 -87.629  Central  ...                NaN   \n",
      "\n",
      "      area_code_list3  area_code_list4  area_code_list5  common_city_list2  \\\n",
      "index                                                                        \n",
      "53                847              872              630                NaN   \n",
      "\n",
      "       common_city_list3  area_code_list6  area_code_list7  area_code_list8  \\\n",
      "index                                                                         \n",
      "53                   NaN              773              815              708   \n",
      "\n",
      "       common_city_list4  \n",
      "index                     \n",
      "53                   NaN  \n",
      "\n",
      "[1 rows x 36 columns]\n"
     ]
    }
   ],
   "source": [
    "print(df[~df['area_code_list8'].isnull()])"
   ],
   "metadata": {
    "collapsed": false,
    "pycharm": {
     "name": "#%%\n"
    }
   }
  },
  {
   "cell_type": "code",
   "execution_count": 55,
   "outputs": [],
   "source": [
    "df.to_csv('../ref/unique_zips_and_population.csv', index=False)"
   ],
   "metadata": {
    "collapsed": false,
    "pycharm": {
     "name": "#%%\n"
    }
   }
  },
  {
   "cell_type": "code",
   "execution_count": null,
   "outputs": [],
   "source": [
    "    request_url = \"https://service.zipapi.us/population/zipcode/{zip}/\" \\\n",
    "                  \"?X-API-KEY={key}&fields=male_population,female_population\"\n",
    "    zip_ = list((lat, lon))\n",
    "    local_zip = find_zip(zip_)\n",
    "    key = '426151a147801b8aa34933bbd2c75abc'\n",
    "    submit_url = request_url.format(zip=local_zip, key=key)\n",
    "    usr = 'zacharyobrien2@my.unt.edu'\n",
    "    pas = 'ft2x8A!XmuY@XA6hk9xD*nsw'\n",
    "    r = requests.get(submit_url, auth=HTTPBasicAuth(usr, pas))\n",
    "    return local_zip, r.json()['data']['population']"
   ],
   "metadata": {
    "collapsed": false,
    "pycharm": {
     "name": "#%%\n"
    }
   }
  },
  {
   "cell_type": "code",
   "execution_count": null,
   "outputs": [],
   "source": [],
   "metadata": {
    "collapsed": false,
    "pycharm": {
     "name": "#%%\n"
    }
   }
  },
  {
   "cell_type": "code",
   "execution_count": null,
   "outputs": [],
   "source": [],
   "metadata": {
    "collapsed": false,
    "pycharm": {
     "name": "#%%\n"
    }
   }
  },
  {
   "cell_type": "code",
   "execution_count": null,
   "outputs": [],
   "source": [],
   "metadata": {
    "collapsed": false,
    "pycharm": {
     "name": "#%%\n"
    }
   }
  }
 ],
 "metadata": {
  "kernelspec": {
   "display_name": "Python 3",
   "language": "python",
   "name": "python3"
  },
  "language_info": {
   "codemirror_mode": {
    "name": "ipython",
    "version": 2
   },
   "file_extension": ".py",
   "mimetype": "text/x-python",
   "name": "python",
   "nbconvert_exporter": "python",
   "pygments_lexer": "ipython2",
   "version": "2.7.6"
  }
 },
 "nbformat": 4,
 "nbformat_minor": 0
}