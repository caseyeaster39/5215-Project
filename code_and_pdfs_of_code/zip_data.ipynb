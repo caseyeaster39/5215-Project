{
 "cells": [
  {
   "cell_type": "code",
   "execution_count": 1,
   "metadata": {
    "pycharm": {
     "name": "#%%\n"
    }
   },
   "outputs": [],
   "source": [
    "import pandas as pd\n",
    "import numpy as np\n",
    "df = pd.read_csv('../ref/US_long_lat_to_zip.csv', dtype=str)"
   ]
  },
  {
   "cell_type": "code",
   "execution_count": 2,
   "metadata": {
    "pycharm": {
     "name": "#%%\n"
    }
   },
   "outputs": [
    {
     "data": {
      "text/html": [
       "<div>\n",
       "<style scoped>\n",
       "    .dataframe tbody tr th:only-of-type {\n",
       "        vertical-align: middle;\n",
       "    }\n",
       "\n",
       "    .dataframe tbody tr th {\n",
       "        vertical-align: top;\n",
       "    }\n",
       "\n",
       "    .dataframe thead th {\n",
       "        text-align: right;\n",
       "    }\n",
       "</style>\n",
       "<table border=\"1\" class=\"dataframe\">\n",
       "  <thead>\n",
       "    <tr style=\"text-align: right;\">\n",
       "      <th></th>\n",
       "      <th>ZIP</th>\n",
       "      <th>LAT</th>\n",
       "      <th>LNG</th>\n",
       "    </tr>\n",
       "  </thead>\n",
       "  <tbody>\n",
       "    <tr>\n",
       "      <th>0</th>\n",
       "      <td>00601</td>\n",
       "      <td>18.180555</td>\n",
       "      <td>-66.749961</td>\n",
       "    </tr>\n",
       "    <tr>\n",
       "      <th>1</th>\n",
       "      <td>00602</td>\n",
       "      <td>18.361945</td>\n",
       "      <td>-67.175597</td>\n",
       "    </tr>\n",
       "    <tr>\n",
       "      <th>2</th>\n",
       "      <td>00603</td>\n",
       "      <td>18.455183</td>\n",
       "      <td>-67.119887</td>\n",
       "    </tr>\n",
       "    <tr>\n",
       "      <th>3</th>\n",
       "      <td>00606</td>\n",
       "      <td>18.158345</td>\n",
       "      <td>-66.932911</td>\n",
       "    </tr>\n",
       "    <tr>\n",
       "      <th>4</th>\n",
       "      <td>00610</td>\n",
       "      <td>18.295366</td>\n",
       "      <td>-67.125135</td>\n",
       "    </tr>\n",
       "  </tbody>\n",
       "</table>\n",
       "</div>"
      ],
      "text/plain": [
       "     ZIP        LAT          LNG\n",
       "0  00601  18.180555   -66.749961\n",
       "1  00602  18.361945   -67.175597\n",
       "2  00603  18.455183   -67.119887\n",
       "3  00606  18.158345   -66.932911\n",
       "4  00610  18.295366   -67.125135"
      ]
     },
     "execution_count": 2,
     "metadata": {},
     "output_type": "execute_result"
    }
   ],
   "source": [
    "df.head()"
   ]
  },
  {
   "cell_type": "code",
   "execution_count": 13,
   "metadata": {
    "pycharm": {
     "name": "#%%\n"
    }
   },
   "outputs": [],
   "source": [
    "def find_zip(lat, lon):\n",
    "    best_zip = None\n",
    "    best_zip_distance = None\n",
    "    for index, row in df.iterrows():\n",
    "        x1 = float(row['LAT'])\n",
    "        y1 = float(row['LNG'])\n",
    "        x_dif = (lat - x1)**2\n",
    "        y_diff = (lon - y1)**2\n",
    "        distance = np.sqrt(x_dif + y_diff)\n",
    "        if not best_zip_distance or distance < best_zip_distance:\n",
    "            best_zip_distance = distance\n",
    "            best_zip = row['ZIP']\n",
    "    return best_zip"
   ]
  },
  {
   "cell_type": "code",
   "execution_count": 14,
   "metadata": {
    "pycharm": {
     "name": "#%%\n"
    }
   },
   "outputs": [
    {
     "name": "stdout",
     "output_type": "stream",
     "text": [
      "76201\n"
     ]
    }
   ],
   "source": [
    "lat = 33.219253\n",
    "lon = -97.129956\n",
    "print(find_zip(lat, lon))"
   ]
  },
  {
   "cell_type": "code",
   "execution_count": 41,
   "metadata": {
    "pycharm": {
     "name": "#%%\n"
    }
   },
   "outputs": [],
   "source": [
    "import requests\n",
    "from requests.auth import HTTPBasicAuth\n",
    "\n",
    "def get_population(lat, lon):\n",
    "    request_url = \"https://service.zipapi.us/population/zipcode/{zip}/?X-API-KEY={key}&fields=male_population,female_population\"\n",
    "    local_zip = find_zip(lat, lon)\n",
    "    key = '426151a147801b8aa34933bbd2c75abc'\n",
    "    submit_url = request_url.format(zip=local_zip, key=key)\n",
    "    usr = 'zacharyobrien2@my.unt.edu'\n",
    "    pas = 'ft2x8A!XmuY@XA6hk9xD*nsw'\n",
    "    r = requests.get(submit_url,auth=HTTPBasicAuth(usr, pas))\n",
    "    return local_zip, r.json()['data']['population']"
   ]
  },
  {
   "cell_type": "code",
   "execution_count": 42,
   "metadata": {
    "pycharm": {
     "name": "#%%\n"
    }
   },
   "outputs": [
    {
     "name": "stdout",
     "output_type": "stream",
     "text": [
      "76201\n",
      "27107\n",
      "76201\n"
     ]
    }
   ],
   "source": [
    "zip, pop_data = get_population(lat, lon)\n",
    "print(zip)\n",
    "print(pop_data)"
   ]
  },
  {
   "cell_type": "code",
   "execution_count": 43,
   "metadata": {
    "pycharm": {
     "name": "#%%\n"
    }
   },
   "outputs": [
    {
     "name": "stdout",
     "output_type": "stream",
     "text": [
      "Start downloading data for simple zipcode database, total size 9MB ...\n",
      "  1 MB finished ...\n",
      "  2 MB finished ...\n",
      "  3 MB finished ...\n",
      "  4 MB finished ...\n",
      "  5 MB finished ...\n",
      "  6 MB finished ...\n",
      "  7 MB finished ...\n",
      "  8 MB finished ...\n",
      "  9 MB finished ...\n",
      "  10 MB finished ...\n",
      "  Complete!\n"
     ]
    }
   ],
   "source": [
    "from uszipcode import SearchEngine\n",
    "search = SearchEngine(simple_zipcode=True) # set simple_zipcode=False to use rich info database\n",
    "zipcode = search.by_zipcode(zip)"
   ]
  },
  {
   "cell_type": "code",
   "execution_count": 45,
   "metadata": {
    "pycharm": {
     "name": "#%%\n"
    }
   },
   "outputs": [
    {
     "data": {
      "text/plain": [
       "['zipcode',\n",
       " 'zipcode_type',\n",
       " 'major_city',\n",
       " 'post_office_city',\n",
       " 'common_city_list',\n",
       " 'county',\n",
       " 'state',\n",
       " 'lat',\n",
       " 'lng',\n",
       " 'timezone',\n",
       " 'radius_in_miles',\n",
       " 'area_code_list',\n",
       " 'population',\n",
       " 'population_density',\n",
       " 'land_area_in_sqmi',\n",
       " 'water_area_in_sqmi',\n",
       " 'housing_units',\n",
       " 'occupied_housing_units',\n",
       " 'median_home_value',\n",
       " 'median_household_income',\n",
       " 'bounds_west',\n",
       " 'bounds_east',\n",
       " 'bounds_north',\n",
       " 'bounds_south']"
      ]
     },
     "execution_count": 45,
     "metadata": {},
     "output_type": "execute_result"
    }
   ],
   "source": [
    "zipcode.keys()"
   ]
  }
 ],
 "metadata": {
  "kernelspec": {
   "display_name": "Python 3 (ipykernel)",
   "language": "python",
   "name": "python3"
  },
  "language_info": {
   "codemirror_mode": {
    "name": "ipython",
    "version": 3
   },
   "file_extension": ".py",
   "mimetype": "text/x-python",
   "name": "python",
   "nbconvert_exporter": "python",
   "pygments_lexer": "ipython3",
   "version": "3.8.11"
  }
 },
 "nbformat": 4,
 "nbformat_minor": 1
}
