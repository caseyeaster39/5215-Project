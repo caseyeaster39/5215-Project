{
 "cells": [
  {
   "cell_type": "code",
   "execution_count": 2,
   "metadata": {
    "collapsed": true
   },
   "outputs": [],
   "source": [
    "import pandas as pd\n",
    "from uszipcode import SearchEngine\n",
    "from meteostat import Point, Hourly\n",
    "from datetime import datetime\n",
    "import numpy as np"
   ]
  },
  {
   "cell_type": "code",
   "execution_count": 15,
   "outputs": [],
   "source": [
    "def find_zip(lat, lon):\n",
    "    zip_df = pd.read_csv('../ref/US_long_lat_to_zip.csv')\n",
    "    best_zip = None\n",
    "    best_zip_distance = None\n",
    "    for index, row in zip_df.iterrows():\n",
    "        x1 = float(row['LAT'])\n",
    "        y1 = float(row['LNG'])\n",
    "        x_dif = (lat - x1)**2\n",
    "        y_diff = (lon - y1)**2\n",
    "        distance = np.sqrt(x_dif + y_diff)\n",
    "        if not best_zip_distance or distance < best_zip_distance:\n",
    "            best_zip_distance = distance\n",
    "            best_zip = row['ZIP']\n",
    "    return best_zip"
   ],
   "metadata": {
    "collapsed": false,
    "pycharm": {
     "name": "#%%\n"
    }
   }
  },
  {
   "cell_type": "code",
   "execution_count": 4,
   "outputs": [],
   "source": [
    "def search_by_zip(zip_code):\n",
    "    search = SearchEngine(simple_zipcode=True)  # set simple_zipcode=False to use rich info database\n",
    "    zipcode = search.by_zipcode(zip_code)\n",
    "    return zipcode\n"
   ],
   "metadata": {
    "collapsed": false,
    "pycharm": {
     "name": "#%%\n"
    }
   }
  },
  {
   "cell_type": "code",
   "execution_count": 26,
   "outputs": [],
   "source": [
    "def search_weather(lat, lon):\n",
    "    start = datetime(2021, 1, 20)\n",
    "    end = datetime(2021, 1, 21)\n",
    "\n",
    "    # Create Point for Vancouver, BC\n",
    "    location = Point(lat, lon, 70)\n",
    "\n",
    "    # Get daily data for 2021\n",
    "    hour_df = Hourly(location, start, end)\n",
    "    hour_df = hour_df.fetch()\n",
    "\n",
    "    return hour_df"
   ],
   "metadata": {
    "collapsed": false,
    "pycharm": {
     "name": "#%%\n"
    }
   }
  },
  {
   "cell_type": "code",
   "execution_count": 31,
   "outputs": [],
   "source": [
    "def find_additional_info(lat, lon):\n",
    "    out_dict = {}\n",
    "    now = datetime.now()\n",
    "\n",
    "    zipcode = int(find_zip(lat, lon))\n",
    "    print(\"Zipcode\", zipcode)\n",
    "    population_info = search_by_zip(zipcode).to_dict()\n",
    "    print(\"population info\", population_info)\n",
    "    weather_info = search_weather(lat, lon)\n",
    "    print(\"weather_info\", weather_info)\n",
    "    hour_search = (now.hour - 3)\n",
    "    if (now.hour - 3) < 0:\n",
    "        hour_search = 0\n",
    "    elif (now.hour - 3) > 23:\n",
    "        hour_search = 23\n",
    "    print(\"Hour search\", hour_search)\n",
    "    hour_row = weather_info.iloc[(hour_search),:].to_dict()\n",
    "\n",
    "    for key in population_info.keys():\n",
    "        val = population_info[key]\n",
    "        if isinstance(val, list):\n",
    "            for list_index, list_val in enumerate(val):\n",
    "                if list_index == 0:\n",
    "                    out_dict[key] = list_val\n",
    "                else:\n",
    "                    list_key = key + str(list_index)\n",
    "                    out_dict[list_key] = list_val\n",
    "            print(key, \"Is List\")\n",
    "        else:\n",
    "            out_dict[key] = val\n",
    "\n",
    "\n",
    "    for item in hour_row.keys():\n",
    "        out_dict[item] = hour_row[item]\n",
    "\n",
    "    return out_dict\n"
   ],
   "metadata": {
    "collapsed": false,
    "pycharm": {
     "name": "#%%\n"
    }
   }
  },
  {
   "cell_type": "code",
   "execution_count": 32,
   "outputs": [
    {
     "name": "stdout",
     "output_type": "stream",
     "text": [
      "Zipcode 98281\n",
      "population info {'zipcode': '98281', 'zipcode_type': 'Standard', 'major_city': 'Point Roberts', 'post_office_city': 'Point Roberts, WA', 'common_city_list': ['Point Roberts'], 'county': 'Whatcom County', 'state': 'WA', 'lat': 48.99, 'lng': -123.06, 'timezone': 'Pacific', 'radius_in_miles': 2.0, 'area_code_list': ['360'], 'population': 1314, 'population_density': 269.0, 'land_area_in_sqmi': 4.89, 'water_area_in_sqmi': 1.69, 'housing_units': 2068, 'occupied_housing_units': 678, 'median_home_value': 221800, 'median_household_income': 39500, 'bounds_west': -123.090546, 'bounds_east': -123.004856, 'bounds_north': 49.002154, 'bounds_south': 48.971295}\n",
      "weather_info                      temp  dwpt  rhum  prcp  snow   wdir  wspd  wpgt    pres  \\\n",
      "time                                                                           \n",
      "2021-01-20 00:00:00   6.9   2.9  76.0   0.0   NaN    0.0   0.0   NaN  1027.2   \n",
      "2021-01-20 01:00:00   6.7   3.5  80.0   0.0   NaN  118.0   7.9   NaN  1026.8   \n",
      "2021-01-20 02:00:00   6.6   3.4  80.0   0.0   NaN  100.0   9.7   NaN  1026.2   \n",
      "2021-01-20 03:00:00   6.5   4.0  84.0   0.0   NaN    0.0   0.0   NaN  1025.5   \n",
      "2021-01-20 04:00:00   6.2   3.9  85.0   0.0   NaN   66.0   9.0   NaN  1025.3   \n",
      "2021-01-20 05:00:00   5.9   3.9  87.0   0.0   NaN   53.0   6.5   NaN  1025.2   \n",
      "2021-01-20 06:00:00   5.9   3.6  85.0   0.0   NaN    0.0   0.0   NaN  1025.0   \n",
      "2021-01-20 07:00:00   5.5   3.5  87.0   0.0   NaN   65.0   4.7   NaN  1025.3   \n",
      "2021-01-20 08:00:00   5.4   3.4  87.0   0.0   NaN   54.0   4.3   NaN  1025.0   \n",
      "2021-01-20 09:00:00   5.3   3.5  88.0   0.0   NaN    0.0   0.0   NaN  1024.4   \n",
      "2021-01-20 10:00:00   5.2   3.4  88.0   0.0   NaN   45.0   3.2   NaN  1024.1   \n",
      "2021-01-20 11:00:00   5.1   3.4  89.0   0.0   NaN   11.0   1.8   NaN  1024.0   \n",
      "2021-01-20 12:00:00   5.3   3.8  90.0   0.0   NaN    0.0   0.0   NaN  1023.4   \n",
      "2021-01-20 13:00:00   5.6   3.9  89.0   0.0   NaN  301.0   3.6   NaN  1023.3   \n",
      "2021-01-20 14:00:00   5.4   3.9  90.0   0.0   NaN  307.0   5.8   NaN  1022.9   \n",
      "2021-01-20 15:00:00   5.4   3.9  90.0   0.0   NaN    0.0   0.0   NaN  1022.8   \n",
      "2021-01-20 16:00:00   4.8   3.1  89.0   0.0   NaN  317.0   5.0   NaN  1022.2   \n",
      "2021-01-20 17:00:00   4.9   3.2  89.0   0.0   NaN  329.0   3.2   NaN  1022.3   \n",
      "2021-01-20 18:00:00   5.7   3.9  88.0   0.0   NaN    0.0   0.0   NaN  1022.2   \n",
      "2021-01-20 19:00:00   6.6   4.1  84.0   0.0   NaN  189.0   1.8   NaN  1022.2   \n",
      "2021-01-20 20:00:00   6.8   3.8  81.0   0.0   NaN  259.0   0.7   NaN  1021.9   \n",
      "2021-01-20 21:00:00   7.0   3.2  77.0   0.0   NaN  255.0   1.8   NaN  1021.1   \n",
      "2021-01-20 22:00:00   6.7   2.6  75.0   0.0   NaN  277.0   2.9   NaN  1020.8   \n",
      "2021-01-20 23:00:00   6.7   3.1  78.0   0.0   NaN  280.0   2.5   NaN  1020.8   \n",
      "2021-01-21 00:00:00   6.2   3.0  80.0   0.0   NaN    0.0   0.0   NaN  1020.7   \n",
      "\n",
      "                     tsun  coco  \n",
      "time                             \n",
      "2021-01-20 00:00:00   NaN   3.0  \n",
      "2021-01-20 01:00:00   NaN   3.0  \n",
      "2021-01-20 02:00:00   NaN   3.0  \n",
      "2021-01-20 03:00:00   NaN   3.0  \n",
      "2021-01-20 04:00:00   NaN   4.0  \n",
      "2021-01-20 05:00:00   NaN   4.0  \n",
      "2021-01-20 06:00:00   NaN   4.0  \n",
      "2021-01-20 07:00:00   NaN   4.0  \n",
      "2021-01-20 08:00:00   NaN   4.0  \n",
      "2021-01-20 09:00:00   NaN   3.0  \n",
      "2021-01-20 10:00:00   NaN   4.0  \n",
      "2021-01-20 11:00:00   NaN   4.0  \n",
      "2021-01-20 12:00:00   NaN   4.0  \n",
      "2021-01-20 13:00:00   NaN   4.0  \n",
      "2021-01-20 14:00:00   NaN   4.0  \n",
      "2021-01-20 15:00:00   NaN   4.0  \n",
      "2021-01-20 16:00:00   NaN   4.0  \n",
      "2021-01-20 17:00:00   NaN   4.0  \n",
      "2021-01-20 18:00:00   NaN   4.0  \n",
      "2021-01-20 19:00:00   NaN   4.0  \n",
      "2021-01-20 20:00:00   NaN   4.0  \n",
      "2021-01-20 21:00:00   NaN   4.0  \n",
      "2021-01-20 22:00:00   NaN   4.0  \n",
      "2021-01-20 23:00:00   NaN   4.0  \n",
      "2021-01-21 00:00:00   NaN   4.0  \n",
      "Hour search 17\n",
      "common_city_list Is List\n",
      "area_code_list Is List\n"
     ]
    }
   ],
   "source": [
    "lat, lon = 49.2497, -123.1193\n",
    "additional_info = find_additional_info(lat, lon)"
   ],
   "metadata": {
    "collapsed": false,
    "pycharm": {
     "name": "#%%\n"
    }
   }
  },
  {
   "cell_type": "code",
   "execution_count": 33,
   "outputs": [
    {
     "name": "stdout",
     "output_type": "stream",
     "text": [
      "{'temp': 4.9, 'dwpt': 3.2, 'rhum': 89.0, 'prcp': 0.0, 'snow': nan, 'wdir': 329.0, 'wspd': 3.2, 'wpgt': nan, 'pres': 1022.3, 'tsun': nan, 'coco': 4.0, 'zipcode': '98281', 'zipcode_type': 'Standard', 'major_city': 'Point Roberts', 'post_office_city': 'Point Roberts, WA', 'common_city_list': 'Point Roberts', 'county': 'Whatcom County', 'state': 'WA', 'lat': 48.99, 'lng': -123.06, 'timezone': 'Pacific', 'radius_in_miles': 2.0, 'area_code_list': '360', 'population': 1314, 'population_density': 269.0, 'land_area_in_sqmi': 4.89, 'water_area_in_sqmi': 1.69, 'housing_units': 2068, 'occupied_housing_units': 678, 'median_home_value': 221800, 'median_household_income': 39500, 'bounds_west': -123.090546, 'bounds_east': -123.004856, 'bounds_north': 49.002154, 'bounds_south': 48.971295}\n"
     ]
    }
   ],
   "source": [
    "print(additional_info)"
   ],
   "metadata": {
    "collapsed": false,
    "pycharm": {
     "name": "#%%\n"
    }
   }
  },
  {
   "cell_type": "code",
   "execution_count": null,
   "outputs": [],
   "source": [],
   "metadata": {
    "collapsed": false,
    "pycharm": {
     "name": "#%%\n"
    }
   }
  },
  {
   "cell_type": "code",
   "execution_count": null,
   "outputs": [],
   "source": [],
   "metadata": {
    "collapsed": false,
    "pycharm": {
     "name": "#%%"
    }
   }
  }
 ],
 "metadata": {
  "kernelspec": {
   "display_name": "Python 3",
   "language": "python",
   "name": "python3"
  },
  "language_info": {
   "codemirror_mode": {
    "name": "ipython",
    "version": 2
   },
   "file_extension": ".py",
   "mimetype": "text/x-python",
   "name": "python",
   "nbconvert_exporter": "python",
   "pygments_lexer": "ipython2",
   "version": "2.7.6"
  }
 },
 "nbformat": 4,
 "nbformat_minor": 0
}